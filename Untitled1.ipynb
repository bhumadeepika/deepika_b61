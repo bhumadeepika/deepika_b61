{
 "cells": [
  {
   "cell_type": "code",
   "execution_count": 1,
   "id": "4e3934c1",
   "metadata": {},
   "outputs": [
    {
     "ename": "SyntaxError",
     "evalue": "invalid syntax (Temp/ipykernel_22644/3952953253.py, line 1)",
     "output_type": "error",
     "traceback": [
      "\u001b[1;36m  File \u001b[1;32m\"C:\\Users\\DELL\\AppData\\Local\\Temp/ipykernel_22644/3952953253.py\"\u001b[1;36m, line \u001b[1;32m1\u001b[0m\n\u001b[1;33m    first name =\"deepu\"\u001b[0m\n\u001b[1;37m          ^\u001b[0m\n\u001b[1;31mSyntaxError\u001b[0m\u001b[1;31m:\u001b[0m invalid syntax\n"
     ]
    }
   ],
   "source": [
    "first name =\"deepu\"\n",
    "print(first name)"
   ]
  },
  {
   "cell_type": "code",
   "execution_count": 2,
   "id": "c1a74cda",
   "metadata": {},
   "outputs": [
    {
     "ename": "SyntaxError",
     "evalue": "invalid syntax (Temp/ipykernel_22644/4158871970.py, line 1)",
     "output_type": "error",
     "traceback": [
      "\u001b[1;36m  File \u001b[1;32m\"C:\\Users\\DELL\\AppData\\Local\\Temp/ipykernel_22644/4158871970.py\"\u001b[1;36m, line \u001b[1;32m1\u001b[0m\n\u001b[1;33m    1name=\"hari\"\u001b[0m\n\u001b[1;37m     ^\u001b[0m\n\u001b[1;31mSyntaxError\u001b[0m\u001b[1;31m:\u001b[0m invalid syntax\n"
     ]
    }
   ],
   "source": [
    "1name=\"hari\"\n",
    "print(1name)"
   ]
  },
  {
   "cell_type": "code",
   "execution_count": 3,
   "id": "11681d38",
   "metadata": {},
   "outputs": [
    {
     "ename": "SyntaxError",
     "evalue": "invalid syntax (Temp/ipykernel_22644/2224949550.py, line 1)",
     "output_type": "error",
     "traceback": [
      "\u001b[1;36m  File \u001b[1;32m\"C:\\Users\\DELL\\AppData\\Local\\Temp/ipykernel_22644/2224949550.py\"\u001b[1;36m, line \u001b[1;32m1\u001b[0m\n\u001b[1;33m    name@ = \"ravi\"\u001b[0m\n\u001b[1;37m          ^\u001b[0m\n\u001b[1;31mSyntaxError\u001b[0m\u001b[1;31m:\u001b[0m invalid syntax\n"
     ]
    }
   ],
   "source": [
    "name@ = \"ravi\"\n",
    "print(name@)"
   ]
  },
  {
   "cell_type": "code",
   "execution_count": 6,
   "id": "86466ffd",
   "metadata": {},
   "outputs": [
    {
     "name": "stdout",
     "output_type": "stream",
     "text": [
      "hema\n"
     ]
    }
   ],
   "source": [
    "stu1=\"hema\"\n",
    "print(stu1)"
   ]
  },
  {
   "cell_type": "code",
   "execution_count": 7,
   "id": "e80b3c32",
   "metadata": {},
   "outputs": [
    {
     "name": "stdout",
     "output_type": "stream",
     "text": [
      "sita\n"
     ]
    }
   ],
   "source": [
    "student2='sita'\n",
    "print(student2)"
   ]
  },
  {
   "cell_type": "code",
   "execution_count": 8,
   "id": "c2515b2c",
   "metadata": {},
   "outputs": [
    {
     "name": "stdout",
     "output_type": "stream",
     "text": [
      "raja\n"
     ]
    }
   ],
   "source": [
    "student3=\"\"\"raja\"\"\"\n",
    "print(student3)"
   ]
  },
  {
   "cell_type": "code",
   "execution_count": null,
   "id": "0189b1b2",
   "metadata": {},
   "outputs": [],
   "source": []
  }
 ],
 "metadata": {
  "kernelspec": {
   "display_name": "Python 3 (ipykernel)",
   "language": "python",
   "name": "python3"
  },
  "language_info": {
   "codemirror_mode": {
    "name": "ipython",
    "version": 3
   },
   "file_extension": ".py",
   "mimetype": "text/x-python",
   "name": "python",
   "nbconvert_exporter": "python",
   "pygments_lexer": "ipython3",
   "version": "3.9.7"
  }
 },
 "nbformat": 4,
 "nbformat_minor": 5
}
